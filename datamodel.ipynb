{
 "cells": [
  {
   "cell_type": "code",
   "execution_count": null,
   "id": "3f8fd0d8-1b0d-460a-be6c-8f899a254aad",
   "metadata": {
    "tags": []
   },
   "outputs": [],
   "source": [
    "import os\n",
    "import pandas as pd"
   ]
  },
  {
   "cell_type": "code",
   "execution_count": null,
   "id": "3d68d13f-ff48-4704-8192-bb61d3776652",
   "metadata": {
    "tags": []
   },
   "outputs": [],
   "source": [
    "path = 'datamodel/'"
   ]
  },
  {
   "cell_type": "code",
   "execution_count": null,
   "id": "1c4eb62a-06ef-421f-9ddf-0b77821bfd58",
   "metadata": {
    "tags": []
   },
   "outputs": [],
   "source": [
    "companies = pd.read_csv('sandp100.csv')\n",
    "companies.columns = [x.lower() for x in companies.columns]\n",
    "companies.head(1)"
   ]
  },
  {
   "cell_type": "code",
   "execution_count": null,
   "id": "5c35a71c-1256-40e8-a407-33c32f20642d",
   "metadata": {
    "tags": []
   },
   "outputs": [],
   "source": [
    "companies.insert(loc=0, column='cid', value=companies.index+1)"
   ]
  },
  {
   "cell_type": "code",
   "execution_count": null,
   "id": "db0bcc08-ab67-49e7-816f-8fee9b2f508c",
   "metadata": {
    "tags": []
   },
   "outputs": [],
   "source": [
    "companies.head(1)"
   ]
  },
  {
   "cell_type": "code",
   "execution_count": null,
   "id": "52d757b9-ee35-4fb1-9bb1-6de9eec0c70e",
   "metadata": {
    "tags": []
   },
   "outputs": [],
   "source": [
    "companies.to_csv(path+'companies.csv', index=False)"
   ]
  },
  {
   "cell_type": "code",
   "execution_count": null,
   "id": "fc6f29bc-c3be-4e8a-a058-6bdaab286ff1",
   "metadata": {
    "tags": []
   },
   "outputs": [],
   "source": [
    "transcriptmeta = pd.read_csv('post_urls.csv')\n",
    "transcriptmeta.head(1)"
   ]
  },
  {
   "cell_type": "code",
   "execution_count": null,
   "id": "b10e9fb1-96dd-45e8-b8e8-36789e86b0ac",
   "metadata": {
    "tags": []
   },
   "outputs": [],
   "source": [
    "transcriptmeta.insert(loc=0, column='tid', value=transcriptmeta.index+1)\n",
    "transcriptmeta.head(1)"
   ]
  },
  {
   "cell_type": "code",
   "execution_count": null,
   "id": "61473e4b-91c5-4829-a837-3ae612dba7a5",
   "metadata": {
    "tags": []
   },
   "outputs": [],
   "source": [
    "d = companies[['symbol', 'cid']].set_index('symbol').to_dict(orient='index')"
   ]
  },
  {
   "cell_type": "code",
   "execution_count": null,
   "id": "4e9d5091-d834-4893-b41a-2a1600a6076d",
   "metadata": {
    "tags": []
   },
   "outputs": [],
   "source": [
    "transcriptmeta['cid'] = transcriptmeta['symbol'].apply(lambda x: d[x]['cid'])"
   ]
  },
  {
   "cell_type": "code",
   "execution_count": null,
   "id": "5c299050-067f-4373-a692-baa70a19bf5a",
   "metadata": {
    "tags": []
   },
   "outputs": [],
   "source": [
    "transcriptmeta.tail()"
   ]
  },
  {
   "cell_type": "code",
   "execution_count": null,
   "id": "0e022f94-3f32-4cdb-8a4d-23f02a98cf2e",
   "metadata": {
    "tags": []
   },
   "outputs": [],
   "source": [
    "transcriptmeta = transcriptmeta.drop('symbol', axis=1)\n",
    "transcriptmeta.head()"
   ]
  },
  {
   "cell_type": "code",
   "execution_count": null,
   "id": "9f9719d8-6dd8-4eb2-be7c-8f5db73a682f",
   "metadata": {
    "tags": []
   },
   "outputs": [],
   "source": [
    "transcriptmeta.to_csv(path+'transcriptmeta.csv', index=False)"
   ]
  },
  {
   "cell_type": "code",
   "execution_count": null,
   "id": "864265cd-2b56-4d97-938f-7aa82416818f",
   "metadata": {
    "tags": []
   },
   "outputs": [],
   "source": [
    "d2 = transcriptmeta[['title', 'tid']].set_index('title').to_dict(orient='index')"
   ]
  },
  {
   "cell_type": "code",
   "execution_count": null,
   "id": "72b9c307-95a6-42e7-ae31-7799b33ee2dd",
   "metadata": {
    "tags": []
   },
   "outputs": [],
   "source": [
    "fn = os.listdir('transcripts')[0]\n",
    "symbol, date, title = fn.split('_', maxsplit=2)\n",
    "title = title.replace('.txt','')\n",
    "title"
   ]
  },
  {
   "cell_type": "code",
   "execution_count": null,
   "id": "c012a145-53e2-4529-836c-bb30ae78e831",
   "metadata": {
    "tags": []
   },
   "outputs": [],
   "source": [
    "fp = 'transcripts/'\n",
    "records = []\n",
    "for fn in os.listdir(fp):\n",
    "    if fn.endswith('.txt'):\n",
    "        symbol, date, title = fn.split('_', maxsplit=2)\n",
    "        title = title.replace('.txt','')\n",
    "        with open(fp+fn) as f:\n",
    "            transcript = f.read()\n",
    "        records.append([title, transcript])"
   ]
  },
  {
   "cell_type": "code",
   "execution_count": null,
   "id": "8b73fcf6-3cc9-484f-99ce-2e7c9c614b30",
   "metadata": {
    "tags": []
   },
   "outputs": [],
   "source": [
    "transcripts = pd.DataFrame(records, columns=['title', 'transcript'])"
   ]
  },
  {
   "cell_type": "code",
   "execution_count": null,
   "id": "51a42855-67a8-42dc-b649-b506b83f4e04",
   "metadata": {
    "tags": []
   },
   "outputs": [],
   "source": [
    "transcripts['tid'] = transcripts['title'].apply(lambda x: d2[x]['tid'])"
   ]
  },
  {
   "cell_type": "code",
   "execution_count": null,
   "id": "2d53209d-2fe0-4f58-8623-9c391af76cc8",
   "metadata": {
    "tags": []
   },
   "outputs": [],
   "source": [
    "transcripts.head()"
   ]
  },
  {
   "cell_type": "code",
   "execution_count": null,
   "id": "747981cd-8205-4321-9283-efd4255559ae",
   "metadata": {
    "tags": []
   },
   "outputs": [],
   "source": [
    "transcripts = transcripts.drop('title', axis=1)\n",
    "transcripts.head(1)"
   ]
  },
  {
   "cell_type": "code",
   "execution_count": null,
   "id": "2d0af2e8-81eb-4d3e-a452-60e7bce00ad2",
   "metadata": {
    "tags": []
   },
   "outputs": [],
   "source": [
    "transcripts.to_csv(path+'transcripts.csv', index=False)"
   ]
  },
  {
   "cell_type": "code",
   "execution_count": null,
   "id": "09a8fff4-b5e8-45d0-a42b-a619a2584092",
   "metadata": {},
   "outputs": [],
   "source": []
  }
 ],
 "metadata": {
  "kernelspec": {
   "display_name": "Python 3 (ipykernel)",
   "language": "python",
   "name": "python3"
  },
  "language_info": {
   "codemirror_mode": {
    "name": "ipython",
    "version": 3
   },
   "file_extension": ".py",
   "mimetype": "text/x-python",
   "name": "python",
   "nbconvert_exporter": "python",
   "pygments_lexer": "ipython3",
   "version": "3.11.5"
  }
 },
 "nbformat": 4,
 "nbformat_minor": 5
}
