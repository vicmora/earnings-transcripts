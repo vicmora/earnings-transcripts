{
 "cells": [
  {
   "cell_type": "code",
   "execution_count": null,
   "id": "eeca34d8-0411-4e13-90d3-e8565119274e",
   "metadata": {
    "tags": []
   },
   "outputs": [],
   "source": [
    "import pandas as pd\n",
    "from nltk.tokenize import word_tokenize\n",
    "from nltk.corpus import stopwords\n",
    "from nltk.stem import PorterStemmer\n",
    "from gensim import corpora\n",
    "from gensim.models import LdaModel"
   ]
  },
  {
   "cell_type": "code",
   "execution_count": null,
   "id": "d2c0f433-ac60-4d85-b2d0-2b20a399c61f",
   "metadata": {
    "tags": []
   },
   "outputs": [],
   "source": [
    "import nltk\n",
    "nltk.download('stopwords')"
   ]
  },
  {
   "cell_type": "code",
   "execution_count": null,
   "id": "3b2e6a8b-0412-4a3c-8765-3f95d508c9e0",
   "metadata": {
    "tags": []
   },
   "outputs": [],
   "source": [
    "def preprocess_text(text):\n",
    "    tokens = word_tokenize(text)\n",
    "    stop_words = set(stopwords.words('english'))\n",
    "    tokens = [word for word in tokens if word.isalpha() and word.lower() not in stop_words]\n",
    "    tokens = [word for word in tokens if word.lower() not in ['quarter', 'year']]\n",
    "    return tokens"
   ]
  },
  {
   "cell_type": "code",
   "execution_count": null,
   "id": "68fc4b5a-dddb-4502-b7f3-203c16708dc7",
   "metadata": {
    "tags": []
   },
   "outputs": [],
   "source": [
    "transcripts = pd.read_csv('datamodel/transcripts.csv')\n",
    "transcripts.head(1)"
   ]
  },
  {
   "cell_type": "code",
   "execution_count": null,
   "id": "f72433e5-2699-414d-93be-9aa889ec9970",
   "metadata": {
    "tags": []
   },
   "outputs": [],
   "source": [
    "d = {}\n",
    "for i, row in transcripts.iterrows():\n",
    "    text_dict = {}\n",
    "    tid = row['tid']\n",
    "    tokens = preprocess_text(row['transcript'])\n",
    "    text_dict[tid] = tokens.copy()\n",
    "    texts = list(text_dict.values())  # List of preprocessed documents\n",
    "    dictionary = corpora.Dictionary(texts)\n",
    "    corpus = [dictionary.doc2bow(text) for text in texts]\n",
    "    lda_model = LdaModel(corpus, num_topics=5, id2word=dictionary, passes=15)\n",
    "    for i, topic in enumerate(lda_model.top_topics(corpus), 1):\n",
    "        if tid in d:\n",
    "            d[tid].append({i: topic[0]})\n",
    "        else:\n",
    "            d[tid] = [{i: topic[0]}]"
   ]
  },
  {
   "cell_type": "code",
   "execution_count": null,
   "id": "0dc96731-ced5-4567-880d-0a884c8b5d75",
   "metadata": {
    "tags": []
   },
   "outputs": [],
   "source": [
    "len(d)"
   ]
  },
  {
   "cell_type": "code",
   "execution_count": null,
   "id": "7d684a39-963b-4f55-8a2f-260f23c79c4c",
   "metadata": {
    "tags": []
   },
   "outputs": [],
   "source": [
    "# for topic_num, topic_words in lda_model.print_topics():\n",
    "#     print(f'Topic #{topic_num + 1}: {topic_words}')"
   ]
  },
  {
   "cell_type": "code",
   "execution_count": null,
   "id": "69212a28-bff9-4b55-a0a0-07437a531a0d",
   "metadata": {
    "tags": []
   },
   "outputs": [],
   "source": [
    "# cid list_pos(0-4) tid(1-5)\n",
    "# list(d[554][0][1][0\n",
    "l = []\n",
    "for tid, v in d.items():\n",
    "    for i in range(5):\n",
    "        for tup in d[tid][i][i+1]:\n",
    "            l.append([tid, i+1]+list(tup))"
   ]
  },
  {
   "cell_type": "code",
   "execution_count": null,
   "id": "dad627bb-d54a-4e2e-9dae-4d5afcf2ef93",
   "metadata": {
    "tags": []
   },
   "outputs": [],
   "source": [
    "df = pd.DataFrame(l, columns=['tid', 'topic_num', 'value', 'topic'])\n",
    "df.head()"
   ]
  },
  {
   "cell_type": "code",
   "execution_count": null,
   "id": "f96f4699-82fe-4c92-a765-961f55ada145",
   "metadata": {
    "tags": []
   },
   "outputs": [],
   "source": [
    "len(df)"
   ]
  },
  {
   "cell_type": "code",
   "execution_count": null,
   "id": "0425bfff-e22f-428c-9e3b-60caf7c98e54",
   "metadata": {
    "tags": []
   },
   "outputs": [],
   "source": [
    "df.to_csv('datamodel/ldatopics.csv', index=False)"
   ]
  },
  {
   "cell_type": "code",
   "execution_count": null,
   "id": "2ef21836-cd1e-4fdd-902e-6036297aae40",
   "metadata": {},
   "outputs": [],
   "source": []
  }
 ],
 "metadata": {
  "kernelspec": {
   "display_name": "Python 3 (ipykernel)",
   "language": "python",
   "name": "python3"
  },
  "language_info": {
   "codemirror_mode": {
    "name": "ipython",
    "version": 3
   },
   "file_extension": ".py",
   "mimetype": "text/x-python",
   "name": "python",
   "nbconvert_exporter": "python",
   "pygments_lexer": "ipython3",
   "version": "3.11.5"
  }
 },
 "nbformat": 4,
 "nbformat_minor": 5
}
