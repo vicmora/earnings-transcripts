{
 "cells": [
  {
   "cell_type": "code",
   "execution_count": null,
   "metadata": {},
   "outputs": [],
   "source": [
    "import requests\n",
    "import pandas as pd"
   ]
  },
  {
   "cell_type": "code",
   "execution_count": null,
   "metadata": {},
   "outputs": [],
   "source": [
    "# create request header\n",
    "headers = {'User-Agent': \"victormora@gmail.com\"}\n",
    "\n",
    "# get all companies data\n",
    "companyTickers = requests.get(\n",
    "    \"https://www.sec.gov/files/company_tickers.json\",\n",
    "    headers=headers\n",
    "    )\n",
    "\n",
    "# dictionary to dataframe\n",
    "companyData = pd.DataFrame.from_dict(companyTickers.json(),\n",
    "                                     orient='index')\n",
    "\n",
    "# add leading zeros to CIK\n",
    "companyData['cik_str'] = companyData['cik_str'].astype(\n",
    "                           str).str.zfill(10)"
   ]
  },
  {
   "cell_type": "code",
   "execution_count": null,
   "metadata": {},
   "outputs": [],
   "source": [
    "companyData.head()"
   ]
  },
  {
   "cell_type": "code",
   "execution_count": null,
   "metadata": {},
   "outputs": [],
   "source": [
    "cik = companyData[0:1].cik_str[0]\n",
    "\n",
    "# get company specific filing metadata\n",
    "filingMetadata = requests.get(\n",
    "    f'https://data.sec.gov/submissions/CIK{cik}.json',\n",
    "    headers=headers\n",
    "    )"
   ]
  },
  {
   "cell_type": "code",
   "execution_count": null,
   "metadata": {},
   "outputs": [],
   "source": [
    "# filingMetadata.json().keys()\n",
    "# filingMetadata.json()['filings']\n",
    "# filingMetadata.json()['filings'].keys()\n",
    "# filingMetadata.json()['filings']['recent']\n",
    "filingMetadata.json()['filings']['recent'].keys()"
   ]
  },
  {
   "cell_type": "code",
   "execution_count": null,
   "metadata": {},
   "outputs": [],
   "source": [
    "# dictionary to dataframe\n",
    "allForms = pd.DataFrame.from_dict(\n",
    "             filingMetadata.json()['filings']['recent']\n",
    "             )\n",
    "allForms.head()"
   ]
  },
  {
   "cell_type": "code",
   "execution_count": null,
   "metadata": {},
   "outputs": [],
   "source": [
    "allForms[allForms['form'].isin(['10-Q', '10-K'])].head()"
   ]
  },
  {
   "cell_type": "code",
   "execution_count": null,
   "metadata": {},
   "outputs": [],
   "source": [
    "# get company facts data\n",
    "companyFacts = requests.get(\n",
    "    f'https://data.sec.gov/api/xbrl/companyfacts/CIK{cik}.json',\n",
    "    headers=headers\n",
    "    )"
   ]
  },
  {
   "cell_type": "code",
   "execution_count": null,
   "metadata": {},
   "outputs": [],
   "source": [
    "#review data\n",
    "companyFacts.json().keys()\n",
    "# companyFacts.json()['facts']\n",
    "companyFacts.json()['facts'].keys()"
   ]
  },
  {
   "cell_type": "code",
   "execution_count": null,
   "metadata": {},
   "outputs": [],
   "source": [
    "companyFacts.json()['facts']['us-gaap'].keys()"
   ]
  },
  {
   "cell_type": "code",
   "execution_count": null,
   "metadata": {},
   "outputs": [],
   "source": [
    "# filing metadata\n",
    "companyFacts.json()['facts']['dei'][\n",
    "    'EntityCommonStockSharesOutstanding']\n",
    "companyFacts.json()['facts']['dei'][\n",
    "    'EntityCommonStockSharesOutstanding'].keys()\n",
    "companyFacts.json()['facts']['dei'][\n",
    "    'EntityCommonStockSharesOutstanding']['units']\n",
    "companyFacts.json()['facts']['dei'][\n",
    "    'EntityCommonStockSharesOutstanding']['units']['shares']\n",
    "companyFacts.json()['facts']['dei'][\n",
    "    'EntityCommonStockSharesOutstanding']['units']['shares'][0]"
   ]
  },
  {
   "cell_type": "code",
   "execution_count": null,
   "metadata": {},
   "outputs": [],
   "source": [
    "\n",
    "\n",
    "# concept data // financial statement line items\n",
    "companyFacts.json()['facts']['us-gaap']\n",
    "companyFacts.json()['facts']['us-gaap'].keys()\n",
    "\n",
    "# different amounts of data available per concept\n",
    "companyFacts.json()['facts']['us-gaap']['AccountsPayable']\n",
    "companyFacts.json()['facts']['us-gaap']['Revenues']\n",
    "companyFacts.json()['facts']['us-gaap']['Assets']\n",
    "\n",
    "# get company concept data\n",
    "companyConcept = requests.get(\n",
    "    (\n",
    "    f'https://data.sec.gov/api/xbrl/companyconcept/CIK{cik}'\n",
    "     f'/us-gaap/Assets.json'\n",
    "    ),\n",
    "    headers=headers\n",
    "    )\n",
    "\n",
    "# review data\n",
    "companyConcept.json().keys()\n",
    "companyConcept.json()['units']\n",
    "companyConcept.json()['units'].keys()\n",
    "companyConcept.json()['units']['USD']\n",
    "companyConcept.json()['units']['USD'][0]\n",
    "\n",
    "# parse assets from single filing\n",
    "companyConcept.json()['units']['USD'][0]['val']\n",
    "\n",
    "# get all filings data \n",
    "assetsData = pd.DataFrame.from_dict((\n",
    "               companyConcept.json()['units']['USD']))\n",
    "\n",
    "# review data\n",
    "assetsData.columns\n",
    "assetsData.form\n",
    "\n",
    "# get assets from 10Q forms and reset index\n",
    "assets10Q = assetsData[assetsData.form == '10-Q']\n",
    "assets10Q = assets10Q.reset_index(drop=True)\n",
    "\n",
    "# plot \n",
    "assets10Q.plot(x='end', y='val')"
   ]
  }
 ],
 "metadata": {
  "kernelspec": {
   "display_name": "Python 3 (ipykernel)",
   "language": "python",
   "name": "python3"
  },
  "language_info": {
   "codemirror_mode": {
    "name": "ipython",
    "version": 3
   },
   "file_extension": ".py",
   "mimetype": "text/x-python",
   "name": "python",
   "nbconvert_exporter": "python",
   "pygments_lexer": "ipython3",
   "version": "3.11.5"
  }
 },
 "nbformat": 4,
 "nbformat_minor": 4
}
