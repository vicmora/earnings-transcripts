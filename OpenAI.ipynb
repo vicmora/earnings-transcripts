{
 "cells": [
  {
   "cell_type": "code",
   "execution_count": null,
   "id": "c74ddff5-0de9-46a0-8c20-3e9cacbe5f37",
   "metadata": {
    "tags": []
   },
   "outputs": [],
   "source": [
    "# !pip install --upgrade openai\n",
    "import os\n",
    "import re\n",
    "import glob\n",
    "import time\n",
    "import asyncio\n",
    "import nest_asyncio\n",
    "import numpy as np\n",
    "import pandas as pd\n",
    "from openai import OpenAI, AsyncOpenAI\n",
    "nest_asyncio.apply()"
   ]
  },
  {
   "cell_type": "code",
   "execution_count": null,
   "id": "ce772395-fb07-4934-883e-6e68a8118c87",
   "metadata": {
    "tags": []
   },
   "outputs": [],
   "source": [
    "path = 'transcripts/'\n",
    "files = glob.glob(path+'AAPL*')\n",
    "# files = os.listdir(fp)\n",
    "files"
   ]
  },
  {
   "cell_type": "code",
   "execution_count": null,
   "id": "94b5da2f-eb43-485e-b27b-bef22e33f9d2",
   "metadata": {
    "tags": []
   },
   "outputs": [],
   "source": [
    "async def oai_request(symbol, date, title, prompt):\n",
    "    client = AsyncOpenAI()\n",
    "    completion = await client.chat.completions.create(\n",
    "      model=\"gpt-3.5-turbo\",\n",
    "      messages=[\n",
    "        {\"role\": \"system\", \"content\": \"You are an analytical assistant.\"},\n",
    "        {\"role\": \"user\", \"content\": prompt}\n",
    "      ]\n",
    "    )\n",
    "    await asyncio.sleep(0.5)\n",
    "    return [symbol, date, title, completion.choices[0].message.content]"
   ]
  },
  {
   "cell_type": "code",
   "execution_count": null,
   "id": "a9f4a5ea-9d52-4565-9082-618fdc69db77",
   "metadata": {
    "tags": []
   },
   "outputs": [],
   "source": [
    "async def requests(fp):\n",
    "    with open(fp, 'r') as f:\n",
    "        transcript = f.read().replace('\\n', ' ')\n",
    "    _, fn = fp.split(path)\n",
    "    symbol, date, title = fn.split('_', maxsplit=2)\n",
    "    title = title[:-4]\n",
    "    # split transcripts into 10 chunks and summarize\n",
    "    # because it exceeds max input tokens\n",
    "    words = transcript.split(' ')\n",
    "    chunks = np.array_split(words, 10)\n",
    "    base_prompt = ('Please only respond with a number. '\n",
    "                   'What is the number of AI keywords or '\n",
    "                   'products in this text?: ')\n",
    "    reqs = []\n",
    "    for c in chunks:\n",
    "        prompt = base_prompt+' '.join(c)\n",
    "        reqs.append(await oai_request(symbol, date, title, prompt))\n",
    "    return reqs"
   ]
  },
  {
   "cell_type": "code",
   "execution_count": null,
   "id": "08a7893f-af5c-4755-a6fa-e06a7af83572",
   "metadata": {
    "tags": []
   },
   "outputs": [],
   "source": [
    "%%time\n",
    "async def first_half():\n",
    "    tasks = [requests(fp) for fp in files[:6]]\n",
    "    responses = await asyncio.gather(*tasks)\n",
    "    return responses\n",
    "\n",
    "async def second_half():\n",
    "    tasks = [requests(fp) for fp in files[6:]]\n",
    "    responses = await asyncio.gather(*tasks)\n",
    "    return responses\n",
    "\n",
    "l1 = asyncio.run(first_half())\n",
    "time.sleep(60)\n",
    "l2 = asyncio.run(second_half())\n",
    "l = l1+l2"
   ]
  },
  {
   "cell_type": "code",
   "execution_count": null,
   "id": "fbbb1af9-cafe-4d1e-a5c6-6485e70da8e1",
   "metadata": {
    "tags": []
   },
   "outputs": [],
   "source": [
    "posts = [y for x in l for y in x]"
   ]
  },
  {
   "cell_type": "code",
   "execution_count": null,
   "id": "37a5bbc1-d514-4a2c-adb8-26c61680ae33",
   "metadata": {
    "tags": []
   },
   "outputs": [],
   "source": [
    "df = pd.DataFrame(posts, columns=['symbol', 'date', 'title', 'ai_count'])\n",
    "df['date'] = pd.to_datetime(df['date'])\n",
    "df['ai_count'] = df['ai_count'].apply(lambda x: re.findall(r'\\d+', x))\n",
    "df['ai_count'] = df['ai_count'].str[0].fillna(0).astype(int)"
   ]
  },
  {
   "cell_type": "code",
   "execution_count": null,
   "id": "ea369a09-dd26-463d-93e4-1fb3806f7250",
   "metadata": {
    "tags": []
   },
   "outputs": [],
   "source": [
    "df.tail()"
   ]
  },
  {
   "cell_type": "code",
   "execution_count": null,
   "id": "2c69ef51-56ab-4345-bb2c-d7c6146dcec0",
   "metadata": {
    "tags": []
   },
   "outputs": [],
   "source": [
    "grp = df.groupby(['symbol', 'date'])['ai_count'].sum()\n",
    "grp"
   ]
  },
  {
   "cell_type": "code",
   "execution_count": null,
   "id": "85840f05-34bf-474f-a412-ac74a4bea614",
   "metadata": {
    "tags": []
   },
   "outputs": [],
   "source": [
    "grp.loc['AAPL'].plot()"
   ]
  },
  {
   "cell_type": "code",
   "execution_count": null,
   "id": "65e177b5-d0c8-42b9-8dbe-ea536851e781",
   "metadata": {},
   "outputs": [],
   "source": []
  }
 ],
 "metadata": {
  "kernelspec": {
   "display_name": "Python 3 (ipykernel)",
   "language": "python",
   "name": "python3"
  },
  "language_info": {
   "codemirror_mode": {
    "name": "ipython",
    "version": 3
   },
   "file_extension": ".py",
   "mimetype": "text/x-python",
   "name": "python",
   "nbconvert_exporter": "python",
   "pygments_lexer": "ipython3",
   "version": "3.11.5"
  }
 },
 "nbformat": 4,
 "nbformat_minor": 5
}
